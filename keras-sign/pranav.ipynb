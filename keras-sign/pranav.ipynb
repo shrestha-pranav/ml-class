{
 "cells": [
  {
   "cell_type": "code",
   "execution_count": 11,
   "metadata": {},
   "outputs": [],
   "source": [
    "# A very simple perceptron for classifying american sign language letters\n",
    "import signdata\n",
    "import numpy as np\n",
    "import tensorflow as tf\n",
    "import keras\n",
    "from keras.models import Sequential\n",
    "from keras.layers import Dense, Flatten, Dropout, BatchNormalization, Conv2D, MaxPooling2D\n",
    "from keras.utils import np_utils\n",
    "import wandb\n",
    "from wandb.keras import WandbCallback"
   ]
  },
  {
   "cell_type": "code",
   "execution_count": 2,
   "metadata": {},
   "outputs": [
    {
     "name": "stdout",
     "output_type": "stream",
     "text": [
      "W&B Run: https://app.wandb.ai/mlclass/asl-july25/runs/qszsopca\n",
      "Wrap your training loop with `with wandb.monitor():` to display live results.\n"
     ]
    }
   ],
   "source": [
    "# logging code\n",
    "run = wandb.init()\n",
    "config = run.config\n",
    "config.team_name = \"davros\"\n",
    "config.loss = \"categorical_crossentropy\"\n",
    "config.optimizer = \"adam\"\n",
    "config.epochs = 10"
   ]
  },
  {
   "cell_type": "code",
   "execution_count": 30,
   "metadata": {},
   "outputs": [],
   "source": [
    "# load data\n",
    "(x_test, y_test) = signdata.load_test_data()\n",
    "(x_train, y_train) = signdata.load_train_data()"
   ]
  },
  {
   "cell_type": "code",
   "execution_count": 4,
   "metadata": {},
   "outputs": [
    {
     "name": "stdout",
     "output_type": "stream",
     "text": [
      "28 28\n"
     ]
    }
   ],
   "source": [
    "img_width = x_test.shape[1]\n",
    "img_height = x_test.shape[2]\n",
    "\n",
    "print(img_width, img_height)\n",
    "input_shape = (img_width, img_height, 1)"
   ]
  },
  {
   "cell_type": "code",
   "execution_count": 5,
   "metadata": {},
   "outputs": [],
   "source": [
    "X_test = x_test /255.0\n",
    "X_train = x_train /255.0"
   ]
  },
  {
   "cell_type": "code",
   "execution_count": 22,
   "metadata": {},
   "outputs": [
    {
     "name": "stdout",
     "output_type": "stream",
     "text": [
      "25\n"
     ]
    }
   ],
   "source": [
    "num_classes = y_train.max()+1\n",
    "print(num_classes)"
   ]
  },
  {
   "cell_type": "code",
   "execution_count": 23,
   "metadata": {},
   "outputs": [],
   "source": [
    "# one hot encode outputs\n",
    "y_train = keras.utils.to_categorical(y_train, num_classes)\n",
    "y_test = keras.utils.to_categorical(y_test, num_classes)"
   ]
  },
  {
   "cell_type": "code",
   "execution_count": 24,
   "metadata": {},
   "outputs": [
    {
     "name": "stdout",
     "output_type": "stream",
     "text": [
      "(27455, 28, 28, 1) (7172, 28, 28, 1)\n"
     ]
    }
   ],
   "source": [
    "# Reshape from (num_examples, x, y) to (num_examples, x, y, num_channels)\n",
    "X_train = X_train.reshape(X_train.shape[0], 28, 28, 1)\n",
    "X_test = X_test.reshape(X_test.shape[0], 28, 28, 1)\n",
    "print(X_train.shape, X_test.shape)"
   ]
  },
  {
   "cell_type": "code",
   "execution_count": 31,
   "metadata": {},
   "outputs": [],
   "source": [
    "model = Sequential()\n",
    "model.add(Conv2D(32, kernel_size=(5, 5), strides=(1, 1),\n",
    "                 activation='relu',\n",
    "                 input_shape=input_shape))\n",
    "model.add(MaxPooling2D(pool_size=(2, 2), strides=(2, 2)))\n",
    "model.add(Conv2D(64, (5, 5), activation='relu'))\n",
    "model.add(MaxPooling2D(pool_size=(2, 2)))\n",
    "model.add(Flatten())\n",
    "model.add(Dense(1000, activation='relu'))\n",
    "model.add(Dense(num_classes, activation='softmax'))\n"
   ]
  },
  {
   "cell_type": "code",
   "execution_count": 36,
   "metadata": {},
   "outputs": [],
   "source": [
    "model.compile(optimizer=tf.train.AdamOptimizer(), \n",
    "              loss='sparse_categorical_crossentropy',\n",
    "              metrics=['accuracy'])"
   ]
  },
  {
   "cell_type": "code",
   "execution_count": 39,
   "metadata": {},
   "outputs": [
    {
     "name": "stdout",
     "output_type": "stream",
     "text": [
      "Train on 27455 samples, validate on 7172 samples\n",
      "Epoch 1/1\n",
      "27455/27455 [==============================] - 7s 272us/step - loss: 2.9975e-06 - acc: 1.0000 - val_loss: 0.2775 - val_acc: 0.9515\n",
      "1440/7172 [=====>........................] - ETA: 0s"
     ]
    },
    {
     "name": "stderr",
     "output_type": "stream",
     "text": [
      "/usr/local/lib/python3.6/dist-packages/keras/models.py:139: UserWarning: TensorFlow optimizers do not make it possible to access optimizer attributes or optimizer state after instantiation. As a result, we cannot save the optimizer as part of the model save file.You will have to compile your model again after loading it. Prefer using a Keras optimizer instead (see keras.io/optimizers).\n",
      "  'TensorFlow optimizers do not '\n"
     ]
    },
    {
     "name": "stdout",
     "output_type": "stream",
     "text": [
      "7172/7172 [==============================] - 1s 105us/step\n",
      "0 Test accuracy: 0.9514779698828778\n",
      "Train on 27455 samples, validate on 7172 samples\n",
      "Epoch 1/1\n",
      "27455/27455 [==============================] - 8s 281us/step - loss: 2.7224e-06 - acc: 1.0000 - val_loss: 0.2768 - val_acc: 0.9525\n",
      "7172/7172 [==============================] - 1s 110us/step\n",
      "1 Test accuracy: 0.9524539877300614\n",
      "Train on 27455 samples, validate on 7172 samples\n",
      "Epoch 1/1\n",
      "27455/27455 [==============================] - 8s 290us/step - loss: 2.6239e-06 - acc: 1.0000 - val_loss: 0.2786 - val_acc: 0.9498\n",
      "7172/7172 [==============================] - 1s 123us/step\n",
      "2 Test accuracy: 0.9498047964305633\n",
      "Train on 27455 samples, validate on 7172 samples\n",
      "Epoch 1/1\n",
      "27455/27455 [==============================] - 8s 293us/step - loss: 2.5848e-06 - acc: 1.0000 - val_loss: 0.2788 - val_acc: 0.9497\n",
      "7172/7172 [==============================] - 1s 118us/step\n",
      "3 Test accuracy: 0.949665365309537\n",
      "Train on 27455 samples, validate on 7172 samples\n",
      "Epoch 1/1\n",
      "27455/27455 [==============================] - 9s 315us/step - loss: 2.5290e-06 - acc: 1.0000 - val_loss: 0.2839 - val_acc: 0.9502\n",
      "7172/7172 [==============================] - 1s 130us/step\n",
      "4 Test accuracy: 0.9502230897936419\n",
      "Train on 27455 samples, validate on 7172 samples\n",
      "Epoch 1/1\n",
      "27455/27455 [==============================] - 8s 307us/step - loss: 2.5045e-06 - acc: 1.0000 - val_loss: 0.2917 - val_acc: 0.9508\n",
      "7172/7172 [==============================] - 1s 119us/step\n",
      "5 Test accuracy: 0.9507808142777467\n",
      "Train on 27455 samples, validate on 7172 samples\n",
      "Epoch 1/1\n",
      "27455/27455 [==============================] - 8s 295us/step - loss: 0.0440 - acc: 0.9882 - val_loss: 0.1982 - val_acc: 0.9526\n",
      "7172/7172 [==============================] - 1s 116us/step\n",
      "6 Test accuracy: 0.9525934188510876\n",
      "Train on 27455 samples, validate on 7172 samples\n",
      "Epoch 1/1\n",
      "27455/27455 [==============================] - 8s 297us/step - loss: 8.8834e-05 - acc: 1.0000 - val_loss: 0.2013 - val_acc: 0.9582\n",
      "7172/7172 [==============================] - 1s 123us/step\n",
      "7 Test accuracy: 0.9581706636921361\n",
      "Train on 27455 samples, validate on 7172 samples\n",
      "Epoch 1/1\n",
      "27455/27455 [==============================] - 8s 289us/step - loss: 3.3906e-05 - acc: 1.0000 - val_loss: 0.2094 - val_acc: 0.9587\n",
      "7172/7172 [==============================] - 1s 98us/step\n",
      "8 Test accuracy: 0.958728388176241\n",
      "Train on 27455 samples, validate on 7172 samples\n",
      "Epoch 1/1\n",
      "27455/27455 [==============================] - 8s 281us/step - loss: 1.7698e-05 - acc: 1.0000 - val_loss: 0.2148 - val_acc: 0.9590\n",
      "7172/7172 [==============================] - 1s 103us/step\n",
      "9 Test accuracy: 0.9590072504182934\n"
     ]
    }
   ],
   "source": [
    "for i in range(10):\n",
    "    model.fit(X_train, y_train,\n",
    "          epochs=1,\n",
    "          verbose=1,\n",
    "          validation_data=(X_test, y_test),\n",
    "          callbacks=[WandbCallback(data_type=\"image\", labels=signdata.letters)])\n",
    "    test_loss, test_acc = model.evaluate(X_test, y_test)\n",
    "\n",
    "    print(i, 'Test accuracy:', test_acc)\n"
   ]
  },
  {
   "cell_type": "code",
   "execution_count": 38,
   "metadata": {},
   "outputs": [
    {
     "name": "stdout",
     "output_type": "stream",
     "text": [
      "7172/7172 [==============================] - 1s 109us/step\n",
      "Test accuracy: 0.951617401003904\n"
     ]
    }
   ],
   "source": [
    "test_loss, test_acc = model.evaluate(X_test, y_test)\n",
    "\n",
    "print('Test accuracy:', test_acc)"
   ]
  },
  {
   "cell_type": "code",
   "execution_count": null,
   "metadata": {},
   "outputs": [],
   "source": []
  }
 ],
 "metadata": {
  "kernelspec": {
   "display_name": "Python 3",
   "language": "python",
   "name": "python3"
  },
  "language_info": {
   "codemirror_mode": {
    "name": "ipython",
    "version": 3
   },
   "file_extension": ".py",
   "mimetype": "text/x-python",
   "name": "python",
   "nbconvert_exporter": "python",
   "pygments_lexer": "ipython3",
   "version": "3.6.5"
  }
 },
 "nbformat": 4,
 "nbformat_minor": 2
}
