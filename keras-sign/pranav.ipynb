{
 "cells": [
  {
   "cell_type": "code",
   "execution_count": 11,
   "metadata": {},
   "outputs": [],
   "source": [
    "# A very simple perceptron for classifying american sign language letters\n",
    "import signdata\n",
    "import numpy as np\n",
    "import tensorflow as tf\n",
    "import keras\n",
    "from keras.models import Sequential\n",
    "from keras.layers import Dense, Flatten, Dropout, BatchNormalization, Conv2D, MaxPooling2D\n",
    "from keras.utils import np_utils\n",
    "import wandb\n",
    "from wandb.keras import WandbCallback"
   ]
  },
  {
   "cell_type": "code",
   "execution_count": 2,
   "metadata": {},
   "outputs": [
    {
     "name": "stdout",
     "output_type": "stream",
     "text": [
      "W&B Run: https://app.wandb.ai/mlclass/asl-july25/runs/qszsopca\n",
      "Wrap your training loop with `with wandb.monitor():` to display live results.\n"
     ]
    }
   ],
   "source": [
    "# logging code\n",
    "run = wandb.init()\n",
    "config = run.config\n",
    "config.team_name = \"davros\"\n",
    "config.loss = \"categorical_crossentropy\"\n",
    "config.optimizer = \"adam\"\n",
    "config.epochs = 10"
   ]
  },
  {
   "cell_type": "code",
   "execution_count": 30,
   "metadata": {},
   "outputs": [],
   "source": [
    "# load data\n",
    "(x_test, y_test) = signdata.load_test_data()\n",
    "(x_train, y_train) = signdata.load_train_data()"
   ]
  },
  {
   "cell_type": "code",
   "execution_count": 4,
   "metadata": {},
   "outputs": [
    {
     "name": "stdout",
     "output_type": "stream",
     "text": [
      "28 28\n"
     ]
    }
   ],
   "source": [
    "img_width = x_test.shape[1]\n",
    "img_height = x_test.shape[2]\n",
    "\n",
    "print(img_width, img_height)\n",
    "input_shape = (img_width, img_height, 1)"
   ]
  },
  {
   "cell_type": "code",
   "execution_count": 5,
   "metadata": {},
   "outputs": [],
   "source": [
    "X_test = x_test /255.0\n",
    "X_train = x_train /255.0"
   ]
  },
  {
   "cell_type": "code",
   "execution_count": 22,
   "metadata": {},
   "outputs": [
    {
     "name": "stdout",
     "output_type": "stream",
     "text": [
      "25\n"
     ]
    }
   ],
   "source": [
    "num_classes = y_train.max()+1\n",
    "print(num_classes)"
   ]
  },
  {
   "cell_type": "code",
   "execution_count": 23,
   "metadata": {},
   "outputs": [],
   "source": [
    "# one hot encode outputs\n",
    "y_train = keras.utils.to_categorical(y_train, num_classes)\n",
    "y_test = keras.utils.to_categorical(y_test, num_classes)"
   ]
  },
  {
   "cell_type": "code",
   "execution_count": 24,
   "metadata": {},
   "outputs": [
    {
     "name": "stdout",
     "output_type": "stream",
     "text": [
      "(27455, 28, 28, 1) (7172, 28, 28, 1)\n"
     ]
    }
   ],
   "source": [
    "# Reshape from (num_examples, x, y) to (num_examples, x, y, num_channels)\n",
    "X_train = X_train.reshape(X_train.shape[0], 28, 28, 1)\n",
    "X_test = X_test.reshape(X_test.shape[0], 28, 28, 1)\n",
    "print(X_train.shape, X_test.shape)"
   ]
  },
  {
   "cell_type": "code",
   "execution_count": 31,
   "metadata": {},
   "outputs": [],
   "source": [
    "model = Sequential()\n",
    "model.add(Conv2D(32, kernel_size=(5, 5), strides=(1, 1),\n",
    "                 activation='relu',\n",
    "                 input_shape=input_shape))\n",
    "model.add(MaxPooling2D(pool_size=(2, 2), strides=(2, 2)))\n",
    "model.add(Conv2D(64, (5, 5), activation='relu'))\n",
    "model.add(MaxPooling2D(pool_size=(2, 2)))\n",
    "model.add(Flatten())\n",
    "model.add(Dense(1000, activation='relu'))\n",
    "model.add(Dense(num_classes, activation='softmax'))\n"
   ]
  },
  {
   "cell_type": "code",
   "execution_count": 36,
   "metadata": {},
   "outputs": [],
   "source": [
    "model.compile(optimizer=tf.train.AdamOptimizer(), \n",
    "              loss='sparse_categorical_crossentropy',\n",
    "              metrics=['accuracy'])"
   ]
  },
  {
   "cell_type": "code",
   "execution_count": null,
   "metadata": {},
   "outputs": [
    {
     "name": "stdout",
     "output_type": "stream",
     "text": [
      "Train on 27455 samples, validate on 7172 samples\n",
      "Epoch 1/10\n",
      "27455/27455 [==============================] - 8s 276us/step - loss: 1.0559e-05 - acc: 1.0000 - val_loss: 0.2203 - val_acc: 0.9587\n",
      "Epoch 2/10\n",
      "  672/27455 [..............................] - ETA: 6s - loss: 7.4685e-06 - acc: 1.0000"
     ]
    },
    {
     "name": "stderr",
     "output_type": "stream",
     "text": [
      "/usr/local/lib/python3.6/dist-packages/keras/models.py:139: UserWarning: TensorFlow optimizers do not make it possible to access optimizer attributes or optimizer state after instantiation. As a result, we cannot save the optimizer as part of the model save file.You will have to compile your model again after loading it. Prefer using a Keras optimizer instead (see keras.io/optimizers).\n",
      "  'TensorFlow optimizers do not '\n"
     ]
    },
    {
     "name": "stdout",
     "output_type": "stream",
     "text": [
      "27455/27455 [==============================] - 8s 282us/step - loss: 6.9961e-06 - acc: 1.0000 - val_loss: 0.2294 - val_acc: 0.9601\n",
      "Epoch 3/10\n",
      "27455/27455 [==============================] - 8s 276us/step - loss: 5.0871e-06 - acc: 1.0000 - val_loss: 0.2300 - val_acc: 0.9575\n",
      "Epoch 4/10\n",
      "27455/27455 [==============================] - 8s 274us/step - loss: 4.0075e-06 - acc: 1.0000 - val_loss: 0.2330 - val_acc: 0.9571\n",
      "Epoch 5/10\n",
      "27455/27455 [==============================] - 8s 286us/step - loss: 3.3788e-06 - acc: 1.0000 - val_loss: 0.2373 - val_acc: 0.9578\n",
      "Epoch 6/10\n",
      "27455/27455 [==============================] - 8s 288us/step - loss: 3.0203e-06 - acc: 1.0000 - val_loss: 0.2394 - val_acc: 0.9619\n",
      "Epoch 7/10\n",
      "27455/27455 [==============================] - 8s 283us/step - loss: 2.7981e-06 - acc: 1.0000 - val_loss: 0.2412 - val_acc: 0.9601\n",
      "Epoch 8/10\n",
      "27455/27455 [==============================] - 8s 279us/step - loss: 2.6714e-06 - acc: 1.0000 - val_loss: 0.2497 - val_acc: 0.9619\n",
      "Epoch 9/10\n",
      "27455/27455 [==============================] - 7s 271us/step - loss: 2.5900e-06 - acc: 1.0000 - val_loss: 0.2564 - val_acc: 0.9594\n",
      "Epoch 10/10\n",
      "27264/27455 [============================>.] - ETA: 0s - loss: 2.5398e-06 - acc: 1.0000"
     ]
    }
   ],
   "source": [
    "model.fit(X_train, y_train,\n",
    "      epochs=config.epochs,\n",
    "      verbose=1,\n",
    "      validation_data=(X_test, y_test),\n",
    "      callbacks=[WandbCallback(data_type=\"image\", labels=signdata.letters)])"
   ]
  },
  {
   "cell_type": "code",
   "execution_count": 38,
   "metadata": {},
   "outputs": [
    {
     "name": "stdout",
     "output_type": "stream",
     "text": [
      "7172/7172 [==============================] - 1s 109us/step\n",
      "Test accuracy: 0.951617401003904\n"
     ]
    }
   ],
   "source": [
    "test_loss, test_acc = model.evaluate(X_test, y_test)\n",
    "\n",
    "print('Test accuracy:', test_acc)"
   ]
  },
  {
   "cell_type": "code",
   "execution_count": null,
   "metadata": {},
   "outputs": [],
   "source": []
  }
 ],
 "metadata": {
  "kernelspec": {
   "display_name": "Python 3",
   "language": "python",
   "name": "python3"
  },
  "language_info": {
   "codemirror_mode": {
    "name": "ipython",
    "version": 3
   },
   "file_extension": ".py",
   "mimetype": "text/x-python",
   "name": "python",
   "nbconvert_exporter": "python",
   "pygments_lexer": "ipython3",
   "version": "3.6.5"
  }
 },
 "nbformat": 4,
 "nbformat_minor": 2
}
